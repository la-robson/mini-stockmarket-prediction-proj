{
 "cells": [
  {
   "cell_type": "markdown",
   "source": [
    "# Predicting daily temperature using LSTM\n",
    "## Modelling\n",
    "This notebook contains the LSTM model to model the temperature\n"
   ],
   "metadata": {
    "collapsed": false
   }
  },
  {
   "cell_type": "markdown",
   "source": [
    "## Import libraries"
   ],
   "metadata": {
    "collapsed": false
   }
  },
  {
   "cell_type": "code",
   "execution_count": 16,
   "outputs": [
    {
     "name": "stdout",
     "output_type": "stream",
     "text": [
      "Libraries imported\n"
     ]
    }
   ],
   "source": [
    "import warnings\n",
    "warnings.filterwarnings('ignore')\n",
    "import pandas as pd\n",
    "import numpy as np\n",
    "import matplotlib.pyplot as plt\n",
    "import seaborn as sns\n",
    "from keras.models import Sequential\n",
    "from keras.layers import LSTM\n",
    "from keras.layers import Dense\n",
    "\n",
    "print('Libraries imported')"
   ],
   "metadata": {
    "collapsed": false
   }
  },
  {
   "cell_type": "markdown",
   "source": [
    "## Get dataset"
   ],
   "metadata": {
    "collapsed": false
   }
  },
  {
   "cell_type": "code",
   "execution_count": 17,
   "outputs": [],
   "source": [
    "# import from csv\n",
    "x_test = pd.read_csv('./data/x_test.csv')\n",
    "x_train = pd.read_csv('./data/x_train.csv')\n",
    "y_test = pd.read_csv('./data/y_test.csv')\n",
    "y_train = pd.read_csv('./data/y_train.csv')"
   ],
   "metadata": {
    "collapsed": false
   }
  },
  {
   "cell_type": "code",
   "execution_count": 18,
   "outputs": [],
   "source": [
    "# format as arrays\n",
    "X = np.array(x_train)\n",
    "y = np.array(y_train)\n",
    "# reshape X into [samples, timesteps, features]\n",
    "X = X.reshape((X.shape[0], X.shape[1],1))"
   ],
   "metadata": {
    "collapsed": false
   }
  },
  {
   "cell_type": "markdown",
   "source": [
    "## Define simple LSTM model"
   ],
   "metadata": {
    "collapsed": false
   }
  },
  {
   "cell_type": "code",
   "execution_count": 19,
   "outputs": [],
   "source": [
    "# create blank model\n",
    "model = Sequential()\n",
    "# add LSTM layer\n",
    "model.add(LSTM(128, activation = 'relu', input_shape=(X.shape[1], 1)))\n",
    "model.add(Dense(1))\n",
    "# define optimisation method\n",
    "model.compile(optimizer='adam', loss='mse')"
   ],
   "metadata": {
    "collapsed": false
   }
  },
  {
   "cell_type": "markdown",
   "source": [
    "## Train model"
   ],
   "metadata": {
    "collapsed": false
   }
  },
  {
   "cell_type": "code",
   "execution_count": 20,
   "outputs": [
    {
     "name": "stdout",
     "output_type": "stream",
     "text": [
      "Epoch 1/5\n",
      "483/483 [==============================] - 11s 17ms/step - loss: 14.2362 - val_loss: 9.6493\n",
      "Epoch 2/5\n",
      "483/483 [==============================] - 7s 14ms/step - loss: 9.2187 - val_loss: 8.2136\n",
      "Epoch 3/5\n",
      "483/483 [==============================] - 7s 14ms/step - loss: 8.5098 - val_loss: 7.9843\n",
      "Epoch 4/5\n",
      "483/483 [==============================] - 7s 14ms/step - loss: 8.2270 - val_loss: 8.0734\n",
      "Epoch 5/5\n",
      "483/483 [==============================] - 6s 13ms/step - loss: 8.2826 - val_loss: 8.0016\n"
     ]
    },
    {
     "data": {
      "text/plain": "<keras.callbacks.History at 0x26a3bc68760>"
     },
     "execution_count": 20,
     "metadata": {},
     "output_type": "execute_result"
    }
   ],
   "source": [
    "# define training parameters\n",
    "n_epoch = 5\n",
    "val_split = 0.1\n",
    "\n",
    "model.fit(X, y, epochs=n_epoch, validation_split=val_split)  # train model"
   ],
   "metadata": {
    "collapsed": false
   }
  },
  {
   "cell_type": "code",
   "execution_count": 21,
   "outputs": [
    {
     "data": {
      "text/plain": "   train_loss  val_loss\n0   14.236206  9.649299\n1    9.218683  8.213611\n2    8.509830  7.984323\n3    8.226976  8.073421\n4    8.282599  8.001594",
      "text/html": "<div>\n<style scoped>\n    .dataframe tbody tr th:only-of-type {\n        vertical-align: middle;\n    }\n\n    .dataframe tbody tr th {\n        vertical-align: top;\n    }\n\n    .dataframe thead th {\n        text-align: right;\n    }\n</style>\n<table border=\"1\" class=\"dataframe\">\n  <thead>\n    <tr style=\"text-align: right;\">\n      <th></th>\n      <th>train_loss</th>\n      <th>val_loss</th>\n    </tr>\n  </thead>\n  <tbody>\n    <tr>\n      <th>0</th>\n      <td>14.236206</td>\n      <td>9.649299</td>\n    </tr>\n    <tr>\n      <th>1</th>\n      <td>9.218683</td>\n      <td>8.213611</td>\n    </tr>\n    <tr>\n      <th>2</th>\n      <td>8.509830</td>\n      <td>7.984323</td>\n    </tr>\n    <tr>\n      <th>3</th>\n      <td>8.226976</td>\n      <td>8.073421</td>\n    </tr>\n    <tr>\n      <th>4</th>\n      <td>8.282599</td>\n      <td>8.001594</td>\n    </tr>\n  </tbody>\n</table>\n</div>"
     },
     "execution_count": 21,
     "metadata": {},
     "output_type": "execute_result"
    }
   ],
   "source": [
    "# get loss statistics\n",
    "loss_df = pd.DataFrame({'train_loss':model.history.history['loss'],\n",
    "                        'val_loss':model.history.history['val_loss']})\n",
    "# save statistics\n",
    "loss_df.to_csv('./data/LSTM_loss.csv', index=False)\n",
    "loss_df"
   ],
   "metadata": {
    "collapsed": false
   }
  },
  {
   "cell_type": "code",
   "execution_count": 22,
   "outputs": [],
   "source": [],
   "metadata": {
    "collapsed": false
   }
  },
  {
   "cell_type": "code",
   "execution_count": 23,
   "outputs": [],
   "source": [
    "# # Plot the training accuracy\n",
    "# plt.plot(model.history['accuracy'])\n",
    "# plt.plot(model.history['val_accuracy'])\n",
    "# plt.title('Training accuracy')\n",
    "# plt.ylabel('Accuracy')\n",
    "# plt.xlabel('Epoch')\n",
    "# plt.legend(['train', 'val'], loc='upper left')\n",
    "# plt.show()"
   ],
   "metadata": {
    "collapsed": false
   }
  },
  {
   "cell_type": "markdown",
   "source": [
    "## Test model"
   ],
   "metadata": {
    "collapsed": false
   }
  },
  {
   "cell_type": "code",
   "execution_count": 24,
   "outputs": [],
   "source": [
    "# format data\n",
    "x_test = np.array(x_test)\n",
    "y_test_set = np.array(y_test).flatten()\n",
    "x_input = x_test.reshape((x_test.shape[0], x_test.shape[1], 1))"
   ],
   "metadata": {
    "collapsed": false
   }
  },
  {
   "cell_type": "code",
   "execution_count": 25,
   "outputs": [
    {
     "name": "stdout",
     "output_type": "stream",
     "text": [
      "35/35 [==============================] - 0s 5ms/step\n"
     ]
    },
    {
     "data": {
      "text/plain": "      temp_pred  temp_val\n0     13.356195      11.1\n1     13.759382      12.8\n2     13.269389      13.3\n3     12.674009      12.8\n4     13.732738      11.7\n...         ...       ...\n1090  15.423079      15.6\n1091  10.697013      16.1\n1092  12.864421       9.4\n1093  10.770575      12.8\n1094  13.675333       6.7\n\n[1095 rows x 2 columns]",
      "text/html": "<div>\n<style scoped>\n    .dataframe tbody tr th:only-of-type {\n        vertical-align: middle;\n    }\n\n    .dataframe tbody tr th {\n        vertical-align: top;\n    }\n\n    .dataframe thead th {\n        text-align: right;\n    }\n</style>\n<table border=\"1\" class=\"dataframe\">\n  <thead>\n    <tr style=\"text-align: right;\">\n      <th></th>\n      <th>temp_pred</th>\n      <th>temp_val</th>\n    </tr>\n  </thead>\n  <tbody>\n    <tr>\n      <th>0</th>\n      <td>13.356195</td>\n      <td>11.1</td>\n    </tr>\n    <tr>\n      <th>1</th>\n      <td>13.759382</td>\n      <td>12.8</td>\n    </tr>\n    <tr>\n      <th>2</th>\n      <td>13.269389</td>\n      <td>13.3</td>\n    </tr>\n    <tr>\n      <th>3</th>\n      <td>12.674009</td>\n      <td>12.8</td>\n    </tr>\n    <tr>\n      <th>4</th>\n      <td>13.732738</td>\n      <td>11.7</td>\n    </tr>\n    <tr>\n      <th>...</th>\n      <td>...</td>\n      <td>...</td>\n    </tr>\n    <tr>\n      <th>1090</th>\n      <td>15.423079</td>\n      <td>15.6</td>\n    </tr>\n    <tr>\n      <th>1091</th>\n      <td>10.697013</td>\n      <td>16.1</td>\n    </tr>\n    <tr>\n      <th>1092</th>\n      <td>12.864421</td>\n      <td>9.4</td>\n    </tr>\n    <tr>\n      <th>1093</th>\n      <td>10.770575</td>\n      <td>12.8</td>\n    </tr>\n    <tr>\n      <th>1094</th>\n      <td>13.675333</td>\n      <td>6.7</td>\n    </tr>\n  </tbody>\n</table>\n<p>1095 rows × 2 columns</p>\n</div>"
     },
     "execution_count": 25,
     "metadata": {},
     "output_type": "execute_result"
    }
   ],
   "source": [
    "# make forecast\n",
    "prediction = model.predict(x_input)\n",
    "prediction = prediction.flatten()\n",
    "\n",
    "prediction_df = pd.DataFrame({'temp_pred':prediction,\n",
    "                        'temp_val':y_test_set})\n",
    "\n",
    "# save statistics\n",
    "prediction_df.to_csv('./data/LSTM_pred.csv', index=False)\n",
    "prediction_df"
   ],
   "metadata": {
    "collapsed": false
   }
  }
 ],
 "metadata": {
  "kernelspec": {
   "display_name": "Python 3",
   "language": "python",
   "name": "python3"
  },
  "language_info": {
   "codemirror_mode": {
    "name": "ipython",
    "version": 2
   },
   "file_extension": ".py",
   "mimetype": "text/x-python",
   "name": "python",
   "nbconvert_exporter": "python",
   "pygments_lexer": "ipython2",
   "version": "2.7.6"
  }
 },
 "nbformat": 4,
 "nbformat_minor": 0
}
